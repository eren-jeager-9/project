{
 "cells": [
  {
   "cell_type": "code",
   "execution_count": 18,
   "metadata": {},
   "outputs": [],
   "source": [
    "import numpy as np\n",
    "# import pandas as pd\n",
    "import matplotlib.pyplot as plt\n",
    "import os\n",
    "# import cv2\n",
    "import random\n",
    "import tensorflow as tf\n",
    "from tensorflow import keras\n",
    "from sklearn.metrics import confusion_matrix, ConfusionMatrixDisplay\n",
    "import pandas as pd\n",
    "\n",
    "# Audio processing\n",
    "import librosa\n",
    "import librosa.display\n",
    "import audiomentations\n",
    "\n",
    "from sklearn.preprocessing import StandardScaler, LabelEncoder"
   ]
  },
  {
   "cell_type": "code",
   "execution_count": 19,
   "metadata": {},
   "outputs": [],
   "source": [
    "emotions_tras = {1:1, 2:4, 3:5, 4:0, 5:3, 6:2, 7:6}\n",
    "emotions = {0:'angry', 1:'calm', 2:'disgust', 3:'fear', 4:'happy', 5:'sad', 6:'surprise'}\n",
    "# emotions = {0:'neutral', 1:'calm', 2:'happy', 3:'sad', 4:'angry', 5:'fear', 6:'disgust', 7:'surprise'}\n",
    "\n",
    "# Paths\n",
    "dataset_video_path = \"Datasets/RAVDESS_frames_face_BW/\"\n",
    "dataset_audio_path = \"Datasets/RAVDESS_audio/\"\n",
    "models_video_path = \"Models/Video Stream/\"\n",
    "models_audio_path = \"Models/Audio Stream/\"\n",
    "\n",
    "height_orig = 224\n",
    "width_orig = 224\n",
    "height_targ = 112\n",
    "width_targ = 112\n",
    "\n",
    "num_classes = len(emotions)\n",
    "\n",
    "# test_actors = ['23', '24']\n",
    "test_actors = ['21', '22', '23', '24']"
   ]
  },
  {
   "attachments": {},
   "cell_type": "markdown",
   "id": "3d4a2239",
   "metadata": {},
   "source": [
    "## Data preparation"
   ]
  },
  {
   "attachments": {},
   "cell_type": "markdown",
   "metadata": {},
   "source": [
    "### Video"
   ]
  },
  {
   "cell_type": "code",
   "execution_count": 20,
   "metadata": {},
   "outputs": [
    {
     "data": {
      "text/plain": [
       "224"
      ]
     },
     "execution_count": 20,
     "metadata": {},
     "output_type": "execute_result"
    }
   ],
   "source": [
    "filenames_test = [] # test\n",
    "\n",
    "for dirpath, dirnames, fn in os.walk(dataset_video_path):\n",
    "    dirnames.sort()\n",
    "    if fn != []:\n",
    "        class_temp = int(fn[0].split('-')[2]) - 1\n",
    "        if class_temp != 0:                                                     # exclude 'neutral' label\n",
    "            if any(act in dirpath for act in test_actors):                      # select only train actors\n",
    "                path = [os.path.join(dirpath, elem) for elem in fn]\n",
    "                label = [emotions_tras[class_temp]] * len(fn)                   # emotion trasposition\n",
    "                filenames_test.append(list(zip(path, label)))\n",
    "num_videos = len(filenames_test)\n",
    "num_videos"
   ]
  },
  {
   "cell_type": "code",
   "execution_count": 21,
   "metadata": {},
   "outputs": [],
   "source": [
    "def sampling(list, num_frames_desired):\n",
    "    tot = []\n",
    "    for elem in list:\n",
    "        sampled_list = random.sample(elem, num_frames_desired)\n",
    "        tot += sampled_list\n",
    "    return(tot)\n",
    "\n",
    "def parse_image(filename):\n",
    "    \n",
    "    image = tf.io.read_file(filename)\n",
    "    image = tf.image.decode_jpeg(image, channels=1)\n",
    "    image = tf.image.convert_image_dtype(image, dtype=tf.float16)\n",
    "    image = tf.image.resize_with_crop_or_pad(image, height_orig, width_orig)\n",
    "    image = tf.image.resize(image, [height_targ, width_targ])\n",
    "    print('shape frames:', image.shape)\n",
    "    return image\n",
    "\n",
    "def configure_for_performance(ds, batch_size):\n",
    "    ds = ds.batch(batch_size)\n",
    "    ds = ds.repeat()\n",
    "    ds = ds.prefetch(buffer_size=tf.data.experimental.AUTOTUNE)\n",
    "    return ds\n",
    "\n",
    "def load_dataset(filenames, frames_per_vid):\n",
    "    print(\"frames per video:\", frames_per_vid) \n",
    "    batch_size = frames_per_vid\n",
    "\n",
    "    filenames_sampled = sampling(filenames, frames_per_vid)\n",
    "\n",
    "    zipped = [list(t) for t in zip(*filenames_sampled)]\n",
    "\n",
    "    names = zipped[0]\n",
    "    labels = zipped[1]\n",
    "\n",
    "    names = tf.data.Dataset.from_tensor_slices(names)\n",
    "    images = names.map(parse_image, num_parallel_calls=tf.data.experimental.AUTOTUNE)\n",
    "\n",
    "    labels = [elem for elem in labels]\n",
    "    labels = tf.data.Dataset.from_tensor_slices(labels)\n",
    "\n",
    "    ds = tf.data.Dataset.zip((images, labels))\n",
    "    ds = configure_for_performance(ds, batch_size)\n",
    "\n",
    "    frame_number = len(filenames_sampled)\n",
    "    step_per_epoch = frame_number // batch_size\n",
    "    print('frames number:', frame_number, '\\nbatch size:', batch_size, '\\nbatch number:', step_per_epoch)\n",
    "    return ds, step_per_epoch"
   ]
  },
  {
   "cell_type": "code",
   "execution_count": 22,
   "metadata": {},
   "outputs": [
    {
     "name": "stdout",
     "output_type": "stream",
     "text": [
      "frames per video: 24\n",
      "shape frames: (112, 112, 1)\n",
      "frames number: 5376 \n",
      "batch size: 24 \n",
      "batch number: 224\n"
     ]
    }
   ],
   "source": [
    "frames_per_vid = min([len(elem) for elem in filenames_test])     # number of frames per clip in order to have balanced classes\n",
    "test_ds, step_per_epoch_test = load_dataset(filenames_test, frames_per_vid)"
   ]
  },
  {
   "cell_type": "code",
   "execution_count": 23,
   "metadata": {},
   "outputs": [
    {
     "data": {
      "text/plain": [
       "<tf.Tensor: shape=(24,), dtype=int32, numpy=\n",
       "array([1, 1, 1, 1, 1, 1, 1, 1, 1, 1, 1, 1, 1, 1, 1, 1, 1, 1, 1, 1, 1, 1,\n",
       "       1, 1])>"
      ]
     },
     "execution_count": 23,
     "metadata": {},
     "output_type": "execute_result"
    }
   ],
   "source": [
    "train_x, train_y = tf.compat.v1.data.make_one_shot_iterator(test_ds).get_next()\n",
    "train_y"
   ]
  },
  {
   "cell_type": "code",
   "execution_count": 24,
   "metadata": {},
   "outputs": [
    {
     "name": "stdout",
     "output_type": "stream",
     "text": [
      "(112, 112, 1)\n",
      "calm\n"
     ]
    },
    {
     "data": {
      "text/plain": [
       "<matplotlib.image.AxesImage at 0x1f0ba714c10>"
      ]
     },
     "execution_count": 24,
     "metadata": {},
     "output_type": "execute_result"
    },
    {
     "data": {
      "image/png": "[encoded data removed]",
      "text/plain": [
       "<Figure size 432x288 with 1 Axes>"
      ]
     },
     "metadata": {
      "needs_background": "light"
     },
     "output_type": "display_data"
    }
   ],
   "source": [
    "b = test_ds.unbatch().take(1)\n",
    "\n",
    "for elem in b:\n",
    "    print(elem[0].shape)\n",
    "    print(emotions[int(elem[1])])\n",
    "plt.imshow(elem[0], cmap='gray')"
   ]
  },
  {
   "attachments": {},
   "cell_type": "markdown",
   "metadata": {},
   "source": [
    "### Audio"
   ]
  },
  {
   "cell_type": "code",
   "execution_count": 25,
   "metadata": {},
   "outputs": [],
   "source": [
    "X_test = np.load(dataset_audio_path + 'X_test.npy')\n",
    "y_test = np.load(dataset_audio_path + 'y_test.npy')"
   ]
  },
  {
   "attachments": {},
   "cell_type": "markdown",
   "metadata": {},
   "source": [
    "## Load best models"
   ]
  },
  {
   "attachments": {},
   "cell_type": "markdown",
   "metadata": {},
   "source": [
    "### Video"
   ]
  },
  {
   "cell_type": "code",
   "execution_count": 26,
   "metadata": {},
   "outputs": [],
   "source": [
    "models_list = os.listdir(models_video_path)\n",
    "\n",
    "acc = [float(model.split('[')[1].split(']')[0]) for model in models_list]\n",
    "idx = acc.index(max(acc))                                                       # index of best model\n",
    "\n",
    "model_video = keras.models.load_model(models_video_path + models_list[idx])\n",
    "# model_video.summary()"
   ]
  },
  {
   "attachments": {},
   "cell_type": "markdown",
   "metadata": {},
   "source": [
    "### Audio"
   ]
  },
  {
   "cell_type": "code",
   "execution_count": 27,
   "metadata": {},
   "outputs": [],
   "source": [
    "models_list = os.listdir(models_audio_path)\n",
    "model_audio = keras.models.load_model(models_audio_path + models_list[0])\n",
    "# model_audio.summary()"
   ]
  },
  {
   "attachments": {},
   "cell_type": "markdown",
   "metadata": {},
   "source": [
    "## Predictions"
   ]
  },
  {
   "attachments": {},
   "cell_type": "markdown",
   "metadata": {},
   "source": [
    "### Video"
   ]
  },
  {
   "attachments": {},
   "cell_type": "markdown",
   "metadata": {},
   "source": [
    "#### Evaluate single frame"
   ]
  },
  {
   "cell_type": "code",
   "execution_count": 28,
   "metadata": {},
   "outputs": [
    {
     "name": "stdout",
     "output_type": "stream",
     "text": [
      "224/224 [==============================] - 6s 11ms/step - loss: 1.5974 - sparse_categorical_accuracy: 0.5378\n",
      "accuratezza single frame: 0.5378\n"
     ]
    }
   ],
   "source": [
    "loss_single_frame, acc_single_frame = model_video.evaluate(test_ds, steps=step_per_epoch_test)\n",
    "print('accuratezza single frame:', round(acc_single_frame, 4))"
   ]
  },
  {
   "cell_type": "code",
   "execution_count": 29,
   "metadata": {},
   "outputs": [
    {
     "name": "stdout",
     "output_type": "stream",
     "text": [
      "224/224 [==============================] - 2s 10ms/step\n"
     ]
    }
   ],
   "source": [
    "pred_frames = model_video.predict(test_ds, steps=step_per_epoch_test)\n",
    "ground_frames = [elem[0][1]  for elem in filenames_test]\n",
    "ground_frames = np.repeat(ground_frames, frames_per_vid)"
   ]
  },
  {
   "cell_type": "code",
   "execution_count": 30,
   "metadata": {},
   "outputs": [
    {
     "data": {
      "text/plain": [
       "<sklearn.metrics._plot.confusion_matrix.ConfusionMatrixDisplay at 0x1f0c2d16700>"
      ]
     },
     "execution_count": 30,
     "metadata": {},
     "output_type": "execute_result"
    },
    {
     "data": {
      "image/png": "[encoded data removed]",
      "text/plain": [
       "<Figure size 432x288 with 2 Axes>"
      ]
     },
     "metadata": {
      "needs_background": "light"
     },
     "output_type": "display_data"
    }
   ],
   "source": [
    "cm_frames = confusion_matrix(ground_frames, pred_frames.argmax(axis=1))\n",
    "disp = ConfusionMatrixDisplay(cm_frames, display_labels=list(emotions.values()))\n",
    "disp.plot()"
   ]
  },
  {
   "cell_type": "code",
   "execution_count": 31,
   "metadata": {},
   "outputs": [
    {
     "data": {
      "text/html": [
       "<div>\n",
       "<style scoped>\n",
       "    .dataframe tbody tr th:only-of-type {\n",
       "        vertical-align: middle;\n",
       "    }\n",
       "\n",
       "    .dataframe tbody tr th {\n",
       "        vertical-align: top;\n",
       "    }\n",
       "\n",
       "    .dataframe thead th {\n",
       "        text-align: right;\n",
       "    }\n",
       "</style>\n",
       "<table border=\"1\" class=\"dataframe\">\n",
       "  <thead>\n",
       "    <tr style=\"text-align: right;\">\n",
       "      <th></th>\n",
       "      <th>Recall</th>\n",
       "      <th>Precision</th>\n",
       "    </tr>\n",
       "  </thead>\n",
       "  <tbody>\n",
       "    <tr>\n",
       "      <th>angry</th>\n",
       "      <td>0.45</td>\n",
       "      <td>0.56</td>\n",
       "    </tr>\n",
       "    <tr>\n",
       "      <th>calm</th>\n",
       "      <td>0.53</td>\n",
       "      <td>0.60</td>\n",
       "    </tr>\n",
       "    <tr>\n",
       "      <th>disgust</th>\n",
       "      <td>0.76</td>\n",
       "      <td>0.62</td>\n",
       "    </tr>\n",
       "    <tr>\n",
       "      <th>fear</th>\n",
       "      <td>0.68</td>\n",
       "      <td>0.36</td>\n",
       "    </tr>\n",
       "    <tr>\n",
       "      <th>happy</th>\n",
       "      <td>0.74</td>\n",
       "      <td>0.70</td>\n",
       "    </tr>\n",
       "    <tr>\n",
       "      <th>sad</th>\n",
       "      <td>0.32</td>\n",
       "      <td>0.61</td>\n",
       "    </tr>\n",
       "    <tr>\n",
       "      <th>surprise</th>\n",
       "      <td>0.29</td>\n",
       "      <td>0.47</td>\n",
       "    </tr>\n",
       "  </tbody>\n",
       "</table>\n",
       "</div>"
      ],
      "text/plain": [
       "          Recall  Precision\n",
       "angry       0.45       0.56\n",
       "calm        0.53       0.60\n",
       "disgust     0.76       0.62\n",
       "fear        0.68       0.36\n",
       "happy       0.74       0.70\n",
       "sad         0.32       0.61\n",
       "surprise    0.29       0.47"
      ]
     },
     "execution_count": 31,
     "metadata": {},
     "output_type": "execute_result"
    }
   ],
   "source": [
    "recall_frames = np.diag(cm_frames) / np.sum(cm_frames, axis = 1)\n",
    "precision_frames = np.diag(cm_frames) / np.sum(cm_frames, axis = 0)\n",
    "\n",
    "stats_frames = pd.DataFrame({'Recall': recall_frames, 'Precision': precision_frames}, index=emotions.values())\n",
    "round(stats_frames, 2)"
   ]
  },
  {
   "attachments": {},
   "cell_type": "markdown",
   "metadata": {},
   "source": [
    "#### Evaluate full video"
   ]
  },
  {
   "cell_type": "code",
   "execution_count": 32,
   "metadata": {},
   "outputs": [
    {
     "name": "stdout",
     "output_type": "stream",
     "text": [
      "224/224 [==============================] - 2s 9ms/step\n"
     ]
    }
   ],
   "source": [
    "pred_video_frames = model_video.predict(test_ds, steps=step_per_epoch_test)"
   ]
  },
  {
   "cell_type": "code",
   "execution_count": 33,
   "metadata": {},
   "outputs": [
    {
     "name": "stdout",
     "output_type": "stream",
     "text": [
      "ground truth:\t 1\n",
      "predicted:\t 1\n"
     ]
    },
    {
     "data": {
      "text/plain": [
       "array([5.5659220e-02, 2.0005867e+01, 1.2148728e-03, 3.9285964e-01,\n",
       "       5.6267905e-01, 6.5877950e-01, 2.3229430e+00], dtype=float32)"
      ]
     },
     "execution_count": 33,
     "metadata": {},
     "output_type": "execute_result"
    }
   ],
   "source": [
    "example_id = 0\n",
    "example = np.array_split(pred_video_frames, num_videos)[example_id]\n",
    "\n",
    "print('ground truth:\\t', filenames_test[example_id][0][1])\n",
    "\n",
    "# print('predicted:\\t', np.median(o, axis=0).argmax())\n",
    "# print('predicted:\\t', np.sum(o, axis=0).argmax())\n",
    "print('predicted:\\t', np.mean(example, axis=0).argmax())\n",
    "np.sum(example, axis=0)"
   ]
  },
  {
   "cell_type": "code",
   "execution_count": 34,
   "metadata": {},
   "outputs": [
    {
     "name": "stdout",
     "output_type": "stream",
     "text": [
      "accuracy full video:\t 0.6429\n",
      "Num videos:\t\t 224\n"
     ]
    }
   ],
   "source": [
    "pred_video_list = np.array_split(pred_video_frames, num_videos)\n",
    "\n",
    "ground_video = []\n",
    "pred_video = []\n",
    "\n",
    "i = 0\n",
    "for count, video in enumerate(pred_video_list):\n",
    "    pred_video.append(np.mean(video, axis=0))\n",
    "    # predic.append(np.average(video, axis=0, weights=np.max(video, axis=1)).argmax()) # weighted mean on highest prediction value\n",
    "    ground_video.append(filenames_test[count][0][1])\n",
    "    \n",
    "    if np.array(pred_video[count]).argmax() == ground_video[count]:\n",
    "        i += 1\n",
    "\n",
    "pred_video = np.array(pred_video)\n",
    "print('accuracy full video:\\t', round(i/len(pred_video_list), 4))\n",
    "print('Num videos:\\t\\t', count+1)"
   ]
  },
  {
   "cell_type": "code",
   "execution_count": 35,
   "metadata": {},
   "outputs": [
    {
     "data": {
      "text/plain": [
       "<sklearn.metrics._plot.confusion_matrix.ConfusionMatrixDisplay at 0x1f0c770feb0>"
      ]
     },
     "execution_count": 35,
     "metadata": {},
     "output_type": "execute_result"
    },
    {
     "data": {
      "image/png": "[encoded data removed]",
      "text/plain": [
       "<Figure size 432x288 with 2 Axes>"
      ]
     },
     "metadata": {
      "needs_background": "light"
     },
     "output_type": "display_data"
    }
   ],
   "source": [
    "cm_video = confusion_matrix(ground_video, pred_video.argmax(axis=1))\n",
    "disp = ConfusionMatrixDisplay(cm_video, display_labels=list(emotions.values()))\n",
    "disp.plot()"
   ]
  },
  {
   "cell_type": "code",
   "execution_count": 36,
   "metadata": {},
   "outputs": [
    {
     "data": {
      "text/html": [
       "<div>\n",
       "<style scoped>\n",
       "    .dataframe tbody tr th:only-of-type {\n",
       "        vertical-align: middle;\n",
       "    }\n",
       "\n",
       "    .dataframe tbody tr th {\n",
       "        vertical-align: top;\n",
       "    }\n",
       "\n",
       "    .dataframe thead th {\n",
       "        text-align: right;\n",
       "    }\n",
       "</style>\n",
       "<table border=\"1\" class=\"dataframe\">\n",
       "  <thead>\n",
       "    <tr style=\"text-align: right;\">\n",
       "      <th></th>\n",
       "      <th>Recall</th>\n",
       "      <th>Precision</th>\n",
       "    </tr>\n",
       "  </thead>\n",
       "  <tbody>\n",
       "    <tr>\n",
       "      <th>angry</th>\n",
       "      <td>0.62</td>\n",
       "      <td>0.71</td>\n",
       "    </tr>\n",
       "    <tr>\n",
       "      <th>calm</th>\n",
       "      <td>0.56</td>\n",
       "      <td>0.75</td>\n",
       "    </tr>\n",
       "    <tr>\n",
       "      <th>disgust</th>\n",
       "      <td>0.97</td>\n",
       "      <td>0.70</td>\n",
       "    </tr>\n",
       "    <tr>\n",
       "      <th>fear</th>\n",
       "      <td>0.84</td>\n",
       "      <td>0.42</td>\n",
       "    </tr>\n",
       "    <tr>\n",
       "      <th>happy</th>\n",
       "      <td>0.75</td>\n",
       "      <td>0.80</td>\n",
       "    </tr>\n",
       "    <tr>\n",
       "      <th>sad</th>\n",
       "      <td>0.34</td>\n",
       "      <td>0.92</td>\n",
       "    </tr>\n",
       "    <tr>\n",
       "      <th>surprise</th>\n",
       "      <td>0.41</td>\n",
       "      <td>0.62</td>\n",
       "    </tr>\n",
       "  </tbody>\n",
       "</table>\n",
       "</div>"
      ],
      "text/plain": [
       "          Recall  Precision\n",
       "angry       0.62       0.71\n",
       "calm        0.56       0.75\n",
       "disgust     0.97       0.70\n",
       "fear        0.84       0.42\n",
       "happy       0.75       0.80\n",
       "sad         0.34       0.92\n",
       "surprise    0.41       0.62"
      ]
     },
     "execution_count": 36,
     "metadata": {},
     "output_type": "execute_result"
    }
   ],
   "source": [
    "recall_video = np.diag(cm_video) / np.sum(cm_video, axis = 1)\n",
    "precision_video = np.diag(cm_video) / np.sum(cm_video, axis = 0)\n",
    "\n",
    "stats_video = pd.DataFrame({'Recall': recall_video, 'Precision': precision_video}, index=emotions.values())\n",
    "round(stats_video, 2)"
   ]
  },
  {
   "attachments": {},
   "cell_type": "markdown",
   "metadata": {},
   "source": [
    "### Audio"
   ]
  },
  {
   "cell_type": "code",
   "execution_count": 37,
   "metadata": {},
   "outputs": [
    {
     "name": "stdout",
     "output_type": "stream",
     "text": [
      "7/7 [==============================] - 1s 34ms/step\n"
     ]
    }
   ],
   "source": [
    "pred_audio = model_audio.predict(X_test)"
   ]
  },
  {
   "cell_type": "code",
   "execution_count": 38,
   "metadata": {},
   "outputs": [],
   "source": [
    "ground_audio = np.argmax(y_test, axis = 1)"
   ]
  },
  {
   "cell_type": "code",
   "execution_count": 39,
   "metadata": {},
   "outputs": [
    {
     "data": {
      "text/plain": [
       "<sklearn.metrics._plot.confusion_matrix.ConfusionMatrixDisplay at 0x1f0c62b6df0>"
      ]
     },
     "execution_count": 39,
     "metadata": {},
     "output_type": "execute_result"
    },
    {
     "data": {
      "image/png": "[encoded data removed]",
      "text/plain": [
       "<Figure size 432x288 with 2 Axes>"
      ]
     },
     "metadata": {
      "needs_background": "light"
     },
     "output_type": "display_data"
    }
   ],
   "source": [
    "cm_audio = confusion_matrix(ground_audio, pred_audio.argmax(axis=1))\n",
    "disp = ConfusionMatrixDisplay(cm_audio, display_labels=list(emotions.values()))\n",
    "disp.plot()"
   ]
  },
  {
   "attachments": {},
   "cell_type": "markdown",
   "metadata": {},
   "source": [
    "### Global"
   ]
  },
  {
   "cell_type": "code",
   "execution_count": 40,
   "metadata": {},
   "outputs": [],
   "source": [
    "audio_f1 = [0.52, 0.65, 0.83, 0.87, 0.48, 0.40, 0.93] # np.ones((1,7)) - \n",
    "video_f1 = [0.39, 0.83, 0.69, 0.53, 0.72, 0.44, 0.61]\n",
    "\n",
    "audio_prec = [0.58, 0.72, 0.72, 0.52, 0.43, 0.45, 0.72]\n",
    "video_prec = [0.27, 0.58, 0.65, 0.60, 0.90, 0.43, 0.75]\n",
    "\n",
    "audio_weights = audio_f1\n",
    "video_weights = video_f1"
   ]
  },
  {
   "cell_type": "code",
   "execution_count": 41,
   "metadata": {},
   "outputs": [],
   "source": [
    "pred_global = pred_video*video_weights + pred_audio*audio_weights # weighted mean\n",
    "ground_global = ground_audio"
   ]
  },
  {
   "cell_type": "code",
   "execution_count": 42,
   "metadata": {},
   "outputs": [],
   "source": [
    "pred_global = pred_video + pred_audio # mean\n",
    "ground_global = ground_audio"
   ]
  },
  {
   "cell_type": "code",
   "execution_count": 45,
   "metadata": {},
   "outputs": [
    {
     "data": {
      "image/png": "[encoded data removed]",
      "text/plain": [
       "<Figure size 432x288 with 2 Axes>"
      ]
     },
     "metadata": {
      "needs_background": "light"
     },
     "output_type": "display_data"
    }
   ],
   "source": [
    "cm_global = confusion_matrix(ground_global, pred_global.argmax(axis=1))\n",
    "disp = ConfusionMatrixDisplay(cm_global, display_labels=list(emotions.values()))\n",
    "disp.plot()\n",
    "plt.savefig('Plots/VideoCM_FullClip.png', dpi=300)"
   ]
  },
  {
   "cell_type": "code",
   "execution_count": 44,
   "metadata": {},
   "outputs": [
    {
     "data": {
      "text/plain": [
       "0.7633928571428572"
      ]
     },
     "execution_count": 44,
     "metadata": {},
     "output_type": "execute_result"
    }
   ],
   "source": [
    "1 - np.count_nonzero(ground_global-pred_global.argmax(axis=1)) / len(ground_global)"
   ]
  }
 ],
 "metadata": {
  "kernelspec": {
   "display_name": "base",
   "language": "python",
   "name": "python3"
  },
  "language_info": {
   "codemirror_mode": {
    "name": "ipython",
    "version": 3
   },
   "file_extension": ".py",
   "mimetype": "text/x-python",
   "name": "python",
   "nbconvert_exporter": "python",
   "pygments_lexer": "ipython3",
   "version": "3.9.7"
  },
  "orig_nbformat": 4,
  "vscode": {
   "interpreter": {
    "hash": "ad2bdc8ecc057115af97d19610ffacc2b4e99fae6737bb82f5d7fb13d2f2c186"
   }
  }
 },
 "nbformat": 4,
 "nbformat_minor": 2
}
